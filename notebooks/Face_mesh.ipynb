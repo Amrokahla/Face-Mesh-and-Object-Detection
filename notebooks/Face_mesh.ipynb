{
 "cells": [
  {
   "cell_type": "code",
   "execution_count": 1,
   "id": "b287e887",
   "metadata": {},
   "outputs": [],
   "source": [
    "import mediapipe as mp\n",
    "import cv2\n",
    "from mediapipe.tasks import python\n",
    "from mediapipe.tasks.python import vision\n"
   ]
  },
  {
   "cell_type": "markdown",
   "id": "071970a1",
   "metadata": {},
   "source": [
    "### Prepare Face Meshing"
   ]
  },
  {
   "cell_type": "code",
   "execution_count": 2,
   "id": "b7384cc8",
   "metadata": {},
   "outputs": [],
   "source": [
    "mp_face_mesh = mp.solutions.face_mesh\n",
    "face_mesh = mp_face_mesh.FaceMesh(\n",
    "    static_image_mode=False,\n",
    "    max_num_faces=1,\n",
    "    refine_landmarks=False,\n",
    "    min_detection_confidence=0.5,\n",
    "    min_tracking_confidence=0.5\n",
    ")\n",
    "\n",
    "def get_face_landmarks(image):\n",
    "    \"\"\"Detect face landmarks in an image.\"\"\"\n",
    "    image_rgb = cv2.cvtColor(image, cv2.COLOR_BGR2RGB)\n",
    "    results = face_mesh.process(image_rgb)\n",
    "    return results.multi_face_landmarks[0] if results.multi_face_landmarks else None\n",
    "\n",
    "def draw_face_landmarks(image, landmarks):\n",
    "    \"\"\"Draw face landmarks on the image.\"\"\"\n",
    "    for lm in landmarks.landmark:\n",
    "        x = int(lm.x * image.shape[1])\n",
    "        y = int(lm.y * image.shape[0])\n",
    "        cv2.circle(image, (x, y), 1, (0, 255, 0), -1)\n",
    "    return image"
   ]
  },
  {
   "cell_type": "markdown",
   "id": "de1b10f5",
   "metadata": {},
   "source": [
    "### Perpare Object Detector"
   ]
  },
  {
   "cell_type": "code",
   "execution_count": 3,
   "id": "e4907054",
   "metadata": {},
   "outputs": [],
   "source": [
    "with open(\"efficientdet_lite0.tflite\", \"rb\") as f:\n",
    "    model_data = f.read()\n",
    "    \n",
    "base_options = python.BaseOptions(model_asset_buffer=model_data)\n",
    "options = vision.ObjectDetectorOptions(base_options=base_options,score_threshold=0.5)\n",
    "detector = vision.ObjectDetector.create_from_options(options)\n",
    "\n",
    "def detect_objects(image):\n",
    "    image_rgb = cv2.cvtColor(image, cv2.COLOR_BGR2RGB)\n",
    "    mp_image = mp.Image(image_format=mp.ImageFormat.SRGB, data=image_rgb)\n",
    "    \n",
    "    detection_result = detector.detect(mp_image)\n",
    "    return detection_result\n",
    "\n",
    "def draw_detection_result(image, detection_result, objects_to_detect=None):\n",
    "\n",
    "    if not detection_result.detections:\n",
    "        return image\n",
    "    \n",
    "    annotated_image = image.copy()\n",
    "    \n",
    "    for detection in detection_result.detections:\n",
    "        category = detection.categories[0]\n",
    "        category_name = category.category_name\n",
    "        probability = round(category.score, 2)\n",
    "        \n",
    "        if objects_to_detect and category_name.lower() not in [obj.lower() for obj in objects_to_detect]:\n",
    "            continue\n",
    "        \n",
    "        bbox = detection.bounding_box\n",
    "        x1 = bbox.origin_x\n",
    "        y1 = bbox.origin_y\n",
    "        x2 = x1 + bbox.width\n",
    "        y2 = y1 + bbox.height\n",
    "        cv2.rectangle(annotated_image, (x1, y1), (x2, y2), (0, 0, 255), 2)\n",
    "        label = f\"{category_name}: {probability}\"\n",
    "        \n",
    "        cv2.putText(\n",
    "            annotated_image, \n",
    "            label, \n",
    "            (x1, y1 - 10), \n",
    "            cv2.FONT_HERSHEY_SIMPLEX, \n",
    "            0.5, \n",
    "            (0, 0, 255), \n",
    "            2\n",
    "        )\n",
    "    \n",
    "    return annotated_image"
   ]
  },
  {
   "cell_type": "code",
   "execution_count": 4,
   "id": "fdb794e6",
   "metadata": {},
   "outputs": [],
   "source": [
    "COMMON_OBJECTS = ['cell phone', 'laptop', 'book', 'dog', 'bottle', 'cup', 'pen', 'headphones']"
   ]
  },
  {
   "cell_type": "code",
   "execution_count": 5,
   "id": "7f7c895c",
   "metadata": {},
   "outputs": [],
   "source": [
    "cap = cv2.VideoCapture(0)\n",
    "\n",
    "while cap.isOpened():\n",
    "    ret, frame = cap.read()\n",
    "    if not ret:\n",
    "        break\n",
    "    \n",
    "    processed_frame = frame.copy()\n",
    "    \n",
    "    detection_result = detect_objects(processed_frame)\n",
    "    processed_frame = draw_detection_result(processed_frame, detection_result, objects_to_detect=COMMON_OBJECTS)\n",
    "    \n",
    "    landmarks = get_face_landmarks(processed_frame)\n",
    "    if landmarks:\n",
    "        processed_frame = draw_face_landmarks(processed_frame, landmarks)\n",
    "    \n",
    "    cv2.imshow('Combined Detection', processed_frame)\n",
    "    \n",
    "    if cv2.waitKey(1) & 0xFF == ord('q'):\n",
    "        break\n",
    "\n",
    "cap.release()\n",
    "cv2.destroyAllWindows()"
   ]
  },
  {
   "cell_type": "code",
   "execution_count": null,
   "id": "bfb6a896",
   "metadata": {},
   "outputs": [],
   "source": []
  }
 ],
 "metadata": {
  "kernelspec": {
   "display_name": "venv",
   "language": "python",
   "name": "python3"
  },
  "language_info": {
   "codemirror_mode": {
    "name": "ipython",
    "version": 3
   },
   "file_extension": ".py",
   "mimetype": "text/x-python",
   "name": "python",
   "nbconvert_exporter": "python",
   "pygments_lexer": "ipython3",
   "version": "3.9.0"
  }
 },
 "nbformat": 4,
 "nbformat_minor": 5
}
